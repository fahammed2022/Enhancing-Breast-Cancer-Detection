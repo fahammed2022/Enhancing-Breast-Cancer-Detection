{
  "cells": [
    {
      "cell_type": "markdown",
      "metadata": {
        "id": "view-in-github",
        "colab_type": "text"
      },
      "source": [
        "<a href=\"https://colab.research.google.com/github/fahammed2022/Enhancing-Breast-Cancer-Detection/blob/main/Enhancing_Breast_Cancer_Detection.ipynb\" target=\"_parent\"><img src=\"https://colab.research.google.com/assets/colab-badge.svg\" alt=\"Open In Colab\"/></a>"
      ]
    },
    {
      "cell_type": "markdown",
      "metadata": {
        "id": "5GBCe6ulAyGR"
      },
      "source": [
        "## Load and prepare the data"
      ]
    },
    {
      "cell_type": "code",
      "source": [
        "# Mount Google drive to access the dataset\n",
        "from google.colab import drive\n",
        "drive.mount(\"/content/drive\")\n"
      ],
      "metadata": {
        "colab": {
          "base_uri": "https://localhost:8080/"
        },
        "id": "w3yu4NNicbXs",
        "outputId": "498b9eae-2491-4881-f41a-6e0d7354ea4b"
      },
      "execution_count": 6,
      "outputs": [
        {
          "output_type": "stream",
          "name": "stdout",
          "text": [
            "Drive already mounted at /content/drive; to attempt to forcibly remount, call drive.mount(\"/content/drive\", force_remount=True).\n"
          ]
        }
      ]
    },
    {
      "cell_type": "code",
      "execution_count": 7,
      "metadata": {
        "id": "tC1mMaZ1A09K"
      },
      "outputs": [],
      "source": [
        "# Important libraries for this project\n",
        "import pandas as pd  # To read the dataset from CSV file\n",
        "from sklearn.preprocessing import StandardScaler  # Using for Data Preprocessing\n",
        "from sklearn.model_selection import train_test_split  # To split the dataset into training and test sets\n",
        "import numpy as np  # Accessing data\n",
        "from sklearn.preprocessing import LabelEncoder"
      ]
    },
    {
      "cell_type": "code",
      "execution_count": 8,
      "metadata": {
        "colab": {
          "base_uri": "https://localhost:8080/"
        },
        "id": "iVTvz6vxA5b3",
        "outputId": "22ebea9b-a04a-4d10-d7b9-3a588fa20afb"
      },
      "outputs": [
        {
          "output_type": "stream",
          "name": "stdout",
          "text": [
            "  diagnosis  radius_mean  texture_mean  perimeter_mean  area_mean  \\\n",
            "0         M        17.99         10.38          122.80     1001.0   \n",
            "1         M        20.57         17.77          132.90     1326.0   \n",
            "2         M        19.69         21.25          130.00     1203.0   \n",
            "3         M        11.42         20.38           77.58      386.1   \n",
            "4         M        20.29         14.34          135.10     1297.0   \n",
            "\n",
            "   smoothness_mean  compactness_mean  concavity_mean  concave points_mean  \\\n",
            "0          0.11840           0.27760          0.3001              0.14710   \n",
            "1          0.08474           0.07864          0.0869              0.07017   \n",
            "2          0.10960           0.15990          0.1974              0.12790   \n",
            "3          0.14250           0.28390          0.2414              0.10520   \n",
            "4          0.10030           0.13280          0.1980              0.10430   \n",
            "\n",
            "   symmetry_mean  ...  radius_worst  texture_worst  perimeter_worst  \\\n",
            "0         0.2419  ...         25.38          17.33           184.60   \n",
            "1         0.1812  ...         24.99          23.41           158.80   \n",
            "2         0.2069  ...         23.57          25.53           152.50   \n",
            "3         0.2597  ...         14.91          26.50            98.87   \n",
            "4         0.1809  ...         22.54          16.67           152.20   \n",
            "\n",
            "   area_worst  smoothness_worst  compactness_worst  concavity_worst  \\\n",
            "0      2019.0            0.1622             0.6656           0.7119   \n",
            "1      1956.0            0.1238             0.1866           0.2416   \n",
            "2      1709.0            0.1444             0.4245           0.4504   \n",
            "3       567.7            0.2098             0.8663           0.6869   \n",
            "4      1575.0            0.1374             0.2050           0.4000   \n",
            "\n",
            "   concave points_worst  symmetry_worst  fractal_dimension_worst  \n",
            "0                0.2654          0.4601                  0.11890  \n",
            "1                0.1860          0.2750                  0.08902  \n",
            "2                0.2430          0.3613                  0.08758  \n",
            "3                0.2575          0.6638                  0.17300  \n",
            "4                0.1625          0.2364                  0.07678  \n",
            "\n",
            "[5 rows x 31 columns]\n",
            "0    357\n",
            "1    212\n",
            "Name: diagnosis, dtype: int64\n"
          ]
        }
      ],
      "source": [
        "import pandas as pd\n",
        "from sklearn.model_selection import train_test_split\n",
        "from sklearn.preprocessing import LabelEncoder, StandardScaler\n",
        "from sklearn.neighbors import KNeighborsClassifier\n",
        "\n",
        "# Read the dataset\n",
        "dataset_path = \"/content/drive/MyDrive/Breastcancer/breast-cancer fahad.csv\"\n",
        "Dataset = pd.read_csv(dataset_path)\n",
        "\n",
        "# Display first 5 rows of the dataset\n",
        "print(Dataset.head())\n",
        "\n",
        "# Handle Missing Values\n",
        "Clean_dataset = Dataset.dropna(axis=0)\n",
        "\n",
        "# Encode Target Variable\n",
        "encoder = LabelEncoder()\n",
        "Clean_dataset['diagnosis'] = encoder.fit_transform(Clean_dataset['diagnosis'])\n",
        "\n",
        "# Features and Target Variable\n",
        "Target = Clean_dataset['diagnosis']  # Target Column\n",
        "Features = Clean_dataset.drop(['diagnosis'], axis=1)  # Features Column\n",
        "\n",
        "#Count Target class\n",
        "class_counts = Target.value_counts()\n",
        "print(class_counts)\n",
        "\n",
        "# Split Training data and Test data\n",
        "Features_Training, Features_Test, Target_Training, Target_Test = train_test_split(\n",
        "    Features, Target, random_state=0)\n",
        "\n",
        "# Scale the features\n",
        "scaler = StandardScaler()\n",
        "Features_Training = scaler.fit_transform(Features_Training)\n",
        "Features_Test = scaler.transform(Features_Test)\n",
        "\n"
      ]
    },
    {
      "cell_type": "markdown",
      "source": [
        "## Baseline KNN Model"
      ],
      "metadata": {
        "id": "7km_VWt9k2Hs"
      }
    },
    {
      "cell_type": "code",
      "execution_count": null,
      "metadata": {
        "colab": {
          "base_uri": "https://localhost:8080/"
        },
        "id": "AREF1wjaBaFL",
        "outputId": "176eb9ee-23b7-44fa-9c63-4b95ae4550c7"
      },
      "outputs": [
        {
          "output_type": "stream",
          "name": "stdout",
          "text": [
            "The KNN model accuracy is: 0.958041958041958\n",
            "The KNN model F1 score is: 0.9400000000000001\n"
          ]
        }
      ],
      "source": [
        "from sklearn.neighbors import KNeighborsClassifier\n",
        "from sklearn.metrics import accuracy_score, f1_score\n",
        "\n",
        "# Create a KNN model\n",
        "K_Nearest_Neighbors = KNeighborsClassifier(n_neighbors=4).fit(\n",
        "    Features_Training, Target_Training)\n",
        "\n",
        "# Predictions on Features_Test\n",
        "y_pred_knn = K_Nearest_Neighbors.predict(Features_Test)\n",
        "\n",
        "# Calculate and print accuracy\n",
        "KNN_accuracy = accuracy_score(Target_Test, y_pred_knn)\n",
        "print(\"The KNN model accuracy is:\", KNN_accuracy)\n",
        "\n",
        "# Calculate and print F1 score\n",
        "KNN_f1score = f1_score(Target_Test, y_pred_knn)\n",
        "print(\"The KNN model F1 score is:\", KNN_f1score)\n"
      ]
    },
    {
      "cell_type": "markdown",
      "source": [
        "## Baseline RF Model"
      ],
      "metadata": {
        "id": "iUhlSArMk6yY"
      }
    },
    {
      "cell_type": "code",
      "execution_count": null,
      "metadata": {
        "colab": {
          "base_uri": "https://localhost:8080/"
        },
        "id": "BSUe5twdD-1Y",
        "outputId": "3299f9d6-be92-49f2-9840-085b6b91ed39"
      },
      "outputs": [
        {
          "output_type": "stream",
          "name": "stdout",
          "text": [
            "The RF model accuracy is: 0.958041958041958\n",
            "The RF model F1 score is: 0.9433962264150944\n"
          ]
        }
      ],
      "source": [
        "from sklearn.ensemble import RandomForestClassifier\n",
        "from sklearn.metrics import accuracy_score, f1_score\n",
        "\n",
        "# Create a RF model\n",
        "RF = RandomForestClassifier(n_estimators=12, criterion='entropy', random_state=41)\n",
        "RF.fit(Features_Training, Target_Training)\n",
        "\n",
        "# Predictions on Features_Test\n",
        "y_pred_rf = RF.predict(Features_Test)\n",
        "\n",
        "# Calculate and print accuracy\n",
        "RF_accuracy = accuracy_score(Target_Test, y_pred_rf)\n",
        "print(\"The RF model accuracy is:\", RF_accuracy)\n",
        "\n",
        "# Calculate and print F1 score\n",
        "RF_f1score = f1_score(Target_Test, y_pred_rf)\n",
        "print(\"The RF model F1 score is:\", RF_f1score)\n"
      ]
    },
    {
      "cell_type": "markdown",
      "source": [
        "## Basline DNN Model"
      ],
      "metadata": {
        "id": "7PUJ4G88k-Zy"
      }
    },
    {
      "cell_type": "code",
      "execution_count": null,
      "metadata": {
        "colab": {
          "base_uri": "https://localhost:8080/"
        },
        "id": "c_7vyxmUE6oV",
        "outputId": "48c24aaf-f728-459c-b68d-3ba0699940c6"
      },
      "outputs": [
        {
          "output_type": "stream",
          "name": "stdout",
          "text": [
            "Epoch 1/100\n",
            "14/14 [==============================] - 1s 18ms/step - loss: 0.5801 - accuracy: 0.6714 - val_loss: 0.3615 - val_accuracy: 0.8811\n",
            "Epoch 2/100\n",
            "14/14 [==============================] - 0s 6ms/step - loss: 0.3494 - accuracy: 0.9061 - val_loss: 0.2487 - val_accuracy: 0.9371\n",
            "Epoch 3/100\n",
            "14/14 [==============================] - 0s 5ms/step - loss: 0.2497 - accuracy: 0.9202 - val_loss: 0.1973 - val_accuracy: 0.9301\n",
            "Epoch 4/100\n",
            "14/14 [==============================] - 0s 5ms/step - loss: 0.2086 - accuracy: 0.9319 - val_loss: 0.1663 - val_accuracy: 0.9371\n",
            "Epoch 5/100\n",
            "14/14 [==============================] - 0s 5ms/step - loss: 0.1749 - accuracy: 0.9437 - val_loss: 0.1469 - val_accuracy: 0.9301\n",
            "Epoch 6/100\n",
            "14/14 [==============================] - 0s 5ms/step - loss: 0.1550 - accuracy: 0.9460 - val_loss: 0.1349 - val_accuracy: 0.9231\n",
            "Epoch 7/100\n",
            "14/14 [==============================] - 0s 5ms/step - loss: 0.1471 - accuracy: 0.9577 - val_loss: 0.1246 - val_accuracy: 0.9231\n",
            "Epoch 8/100\n",
            "14/14 [==============================] - 0s 5ms/step - loss: 0.1258 - accuracy: 0.9531 - val_loss: 0.1168 - val_accuracy: 0.9441\n",
            "Epoch 9/100\n",
            "14/14 [==============================] - 0s 5ms/step - loss: 0.1082 - accuracy: 0.9648 - val_loss: 0.1095 - val_accuracy: 0.9371\n",
            "Epoch 10/100\n",
            "14/14 [==============================] - 0s 5ms/step - loss: 0.1075 - accuracy: 0.9601 - val_loss: 0.1050 - val_accuracy: 0.9441\n",
            "Epoch 11/100\n",
            "14/14 [==============================] - 0s 5ms/step - loss: 0.0953 - accuracy: 0.9765 - val_loss: 0.1009 - val_accuracy: 0.9441\n",
            "Epoch 12/100\n",
            "14/14 [==============================] - 0s 6ms/step - loss: 0.0947 - accuracy: 0.9765 - val_loss: 0.0995 - val_accuracy: 0.9441\n",
            "Epoch 13/100\n",
            "14/14 [==============================] - 0s 5ms/step - loss: 0.0822 - accuracy: 0.9765 - val_loss: 0.0961 - val_accuracy: 0.9441\n",
            "Epoch 14/100\n",
            "14/14 [==============================] - 0s 5ms/step - loss: 0.0834 - accuracy: 0.9718 - val_loss: 0.0928 - val_accuracy: 0.9441\n",
            "Epoch 15/100\n",
            "14/14 [==============================] - 0s 6ms/step - loss: 0.0942 - accuracy: 0.9671 - val_loss: 0.0885 - val_accuracy: 0.9580\n",
            "Epoch 16/100\n",
            "14/14 [==============================] - 0s 5ms/step - loss: 0.0804 - accuracy: 0.9648 - val_loss: 0.0874 - val_accuracy: 0.9580\n",
            "Epoch 17/100\n",
            "14/14 [==============================] - 0s 6ms/step - loss: 0.0660 - accuracy: 0.9883 - val_loss: 0.0884 - val_accuracy: 0.9510\n",
            "Epoch 18/100\n",
            "14/14 [==============================] - 0s 5ms/step - loss: 0.0751 - accuracy: 0.9812 - val_loss: 0.0871 - val_accuracy: 0.9580\n",
            "Epoch 19/100\n",
            "14/14 [==============================] - 0s 6ms/step - loss: 0.0794 - accuracy: 0.9789 - val_loss: 0.0860 - val_accuracy: 0.9650\n",
            "Epoch 20/100\n",
            "14/14 [==============================] - 0s 5ms/step - loss: 0.0701 - accuracy: 0.9765 - val_loss: 0.0857 - val_accuracy: 0.9650\n",
            "Epoch 21/100\n",
            "14/14 [==============================] - 0s 6ms/step - loss: 0.0692 - accuracy: 0.9859 - val_loss: 0.0857 - val_accuracy: 0.9650\n",
            "Epoch 22/100\n",
            "14/14 [==============================] - 0s 6ms/step - loss: 0.0591 - accuracy: 0.9883 - val_loss: 0.0853 - val_accuracy: 0.9650\n",
            "Epoch 23/100\n",
            "14/14 [==============================] - 0s 6ms/step - loss: 0.0748 - accuracy: 0.9742 - val_loss: 0.0870 - val_accuracy: 0.9650\n",
            "Epoch 24/100\n",
            "14/14 [==============================] - 0s 4ms/step - loss: 0.0721 - accuracy: 0.9789 - val_loss: 0.0884 - val_accuracy: 0.9650\n",
            "Epoch 25/100\n",
            "14/14 [==============================] - 0s 5ms/step - loss: 0.0627 - accuracy: 0.9812 - val_loss: 0.0910 - val_accuracy: 0.9650\n",
            "Epoch 26/100\n",
            "14/14 [==============================] - 0s 6ms/step - loss: 0.0526 - accuracy: 0.9859 - val_loss: 0.0919 - val_accuracy: 0.9650\n",
            "Epoch 27/100\n",
            "14/14 [==============================] - 0s 5ms/step - loss: 0.0708 - accuracy: 0.9836 - val_loss: 0.0925 - val_accuracy: 0.9650\n",
            "Epoch 28/100\n",
            "14/14 [==============================] - 0s 6ms/step - loss: 0.0535 - accuracy: 0.9859 - val_loss: 0.0921 - val_accuracy: 0.9650\n",
            "Epoch 29/100\n",
            "14/14 [==============================] - 0s 6ms/step - loss: 0.0533 - accuracy: 0.9836 - val_loss: 0.0934 - val_accuracy: 0.9580\n",
            "Epoch 30/100\n",
            "14/14 [==============================] - 0s 5ms/step - loss: 0.0573 - accuracy: 0.9836 - val_loss: 0.0916 - val_accuracy: 0.9580\n",
            "Epoch 31/100\n",
            "14/14 [==============================] - 0s 5ms/step - loss: 0.0557 - accuracy: 0.9812 - val_loss: 0.0912 - val_accuracy: 0.9650\n",
            "Epoch 32/100\n",
            "14/14 [==============================] - 0s 5ms/step - loss: 0.0541 - accuracy: 0.9859 - val_loss: 0.0921 - val_accuracy: 0.9650\n",
            "Epoch 33/100\n",
            "14/14 [==============================] - 0s 6ms/step - loss: 0.0494 - accuracy: 0.9859 - val_loss: 0.0950 - val_accuracy: 0.9650\n",
            "Epoch 34/100\n",
            "14/14 [==============================] - 0s 6ms/step - loss: 0.0623 - accuracy: 0.9812 - val_loss: 0.0930 - val_accuracy: 0.9580\n",
            "Epoch 35/100\n",
            "14/14 [==============================] - 0s 5ms/step - loss: 0.0429 - accuracy: 0.9859 - val_loss: 0.0926 - val_accuracy: 0.9580\n",
            "Epoch 36/100\n",
            "14/14 [==============================] - 0s 6ms/step - loss: 0.0446 - accuracy: 0.9883 - val_loss: 0.0919 - val_accuracy: 0.9580\n",
            "Epoch 37/100\n",
            "14/14 [==============================] - 0s 5ms/step - loss: 0.0457 - accuracy: 0.9836 - val_loss: 0.0972 - val_accuracy: 0.9580\n",
            "Epoch 38/100\n",
            "14/14 [==============================] - 0s 5ms/step - loss: 0.0548 - accuracy: 0.9812 - val_loss: 0.1016 - val_accuracy: 0.9580\n",
            "Epoch 39/100\n",
            "14/14 [==============================] - 0s 6ms/step - loss: 0.0530 - accuracy: 0.9836 - val_loss: 0.0979 - val_accuracy: 0.9580\n",
            "Epoch 40/100\n",
            "14/14 [==============================] - 0s 5ms/step - loss: 0.0425 - accuracy: 0.9906 - val_loss: 0.0995 - val_accuracy: 0.9580\n",
            "Epoch 41/100\n",
            "14/14 [==============================] - 0s 5ms/step - loss: 0.0381 - accuracy: 0.9883 - val_loss: 0.1011 - val_accuracy: 0.9580\n",
            "Epoch 42/100\n",
            "14/14 [==============================] - 0s 5ms/step - loss: 0.0498 - accuracy: 0.9859 - val_loss: 0.1056 - val_accuracy: 0.9580\n",
            "Epoch 43/100\n",
            "14/14 [==============================] - 0s 5ms/step - loss: 0.0347 - accuracy: 0.9930 - val_loss: 0.1093 - val_accuracy: 0.9580\n",
            "Epoch 44/100\n",
            "14/14 [==============================] - 0s 6ms/step - loss: 0.0431 - accuracy: 0.9812 - val_loss: 0.1148 - val_accuracy: 0.9580\n",
            "Epoch 45/100\n",
            "14/14 [==============================] - 0s 6ms/step - loss: 0.0416 - accuracy: 0.9836 - val_loss: 0.1114 - val_accuracy: 0.9580\n",
            "Epoch 46/100\n",
            "14/14 [==============================] - 0s 5ms/step - loss: 0.0344 - accuracy: 0.9883 - val_loss: 0.1048 - val_accuracy: 0.9580\n",
            "Epoch 47/100\n",
            "14/14 [==============================] - 0s 7ms/step - loss: 0.0316 - accuracy: 0.9883 - val_loss: 0.1118 - val_accuracy: 0.9580\n",
            "Epoch 48/100\n",
            "14/14 [==============================] - 0s 5ms/step - loss: 0.0405 - accuracy: 0.9906 - val_loss: 0.1179 - val_accuracy: 0.9580\n",
            "Epoch 49/100\n",
            "14/14 [==============================] - 0s 5ms/step - loss: 0.0323 - accuracy: 0.9859 - val_loss: 0.1221 - val_accuracy: 0.9650\n",
            "Epoch 50/100\n",
            "14/14 [==============================] - 0s 6ms/step - loss: 0.0275 - accuracy: 0.9930 - val_loss: 0.1243 - val_accuracy: 0.9650\n",
            "Epoch 51/100\n",
            "14/14 [==============================] - 0s 6ms/step - loss: 0.0317 - accuracy: 0.9930 - val_loss: 0.1236 - val_accuracy: 0.9650\n",
            "Epoch 52/100\n",
            "14/14 [==============================] - 0s 5ms/step - loss: 0.0315 - accuracy: 0.9906 - val_loss: 0.1269 - val_accuracy: 0.9650\n",
            "Epoch 53/100\n",
            "14/14 [==============================] - 0s 6ms/step - loss: 0.0305 - accuracy: 0.9906 - val_loss: 0.1258 - val_accuracy: 0.9650\n",
            "Epoch 54/100\n",
            "14/14 [==============================] - 0s 5ms/step - loss: 0.0353 - accuracy: 0.9859 - val_loss: 0.1173 - val_accuracy: 0.9580\n",
            "Epoch 55/100\n",
            "14/14 [==============================] - 0s 7ms/step - loss: 0.0322 - accuracy: 0.9883 - val_loss: 0.1152 - val_accuracy: 0.9650\n",
            "Epoch 56/100\n",
            "14/14 [==============================] - 0s 6ms/step - loss: 0.0336 - accuracy: 0.9906 - val_loss: 0.1228 - val_accuracy: 0.9650\n",
            "Epoch 57/100\n",
            "14/14 [==============================] - 0s 7ms/step - loss: 0.0242 - accuracy: 0.9930 - val_loss: 0.1300 - val_accuracy: 0.9650\n",
            "Epoch 58/100\n",
            "14/14 [==============================] - 0s 5ms/step - loss: 0.0342 - accuracy: 0.9859 - val_loss: 0.1359 - val_accuracy: 0.9650\n",
            "Epoch 59/100\n",
            "14/14 [==============================] - 0s 7ms/step - loss: 0.0310 - accuracy: 0.9906 - val_loss: 0.1346 - val_accuracy: 0.9650\n",
            "Epoch 60/100\n",
            "14/14 [==============================] - 0s 7ms/step - loss: 0.0281 - accuracy: 0.9859 - val_loss: 0.1310 - val_accuracy: 0.9650\n",
            "Epoch 61/100\n",
            "14/14 [==============================] - 0s 6ms/step - loss: 0.0336 - accuracy: 0.9859 - val_loss: 0.1280 - val_accuracy: 0.9650\n",
            "Epoch 62/100\n",
            "14/14 [==============================] - 0s 7ms/step - loss: 0.0235 - accuracy: 0.9906 - val_loss: 0.1289 - val_accuracy: 0.9580\n",
            "Epoch 63/100\n",
            "14/14 [==============================] - 0s 5ms/step - loss: 0.0276 - accuracy: 0.9883 - val_loss: 0.1372 - val_accuracy: 0.9650\n",
            "Epoch 64/100\n",
            "14/14 [==============================] - 0s 5ms/step - loss: 0.0246 - accuracy: 0.9906 - val_loss: 0.1487 - val_accuracy: 0.9580\n",
            "Epoch 65/100\n",
            "14/14 [==============================] - 0s 7ms/step - loss: 0.0244 - accuracy: 0.9883 - val_loss: 0.1442 - val_accuracy: 0.9650\n",
            "Epoch 66/100\n",
            "14/14 [==============================] - 0s 6ms/step - loss: 0.0266 - accuracy: 0.9953 - val_loss: 0.1411 - val_accuracy: 0.9650\n",
            "Epoch 67/100\n",
            "14/14 [==============================] - 0s 5ms/step - loss: 0.0236 - accuracy: 0.9906 - val_loss: 0.1454 - val_accuracy: 0.9580\n",
            "Epoch 68/100\n",
            "14/14 [==============================] - 0s 5ms/step - loss: 0.0296 - accuracy: 0.9883 - val_loss: 0.1520 - val_accuracy: 0.9580\n",
            "Epoch 69/100\n",
            "14/14 [==============================] - 0s 6ms/step - loss: 0.0295 - accuracy: 0.9859 - val_loss: 0.1455 - val_accuracy: 0.9580\n",
            "Epoch 70/100\n",
            "14/14 [==============================] - 0s 7ms/step - loss: 0.0253 - accuracy: 0.9906 - val_loss: 0.1483 - val_accuracy: 0.9580\n",
            "Epoch 71/100\n",
            "14/14 [==============================] - 0s 5ms/step - loss: 0.0245 - accuracy: 0.9930 - val_loss: 0.1571 - val_accuracy: 0.9650\n",
            "Epoch 72/100\n",
            "14/14 [==============================] - 0s 5ms/step - loss: 0.0267 - accuracy: 0.9883 - val_loss: 0.1469 - val_accuracy: 0.9580\n",
            "Epoch 73/100\n",
            "14/14 [==============================] - 0s 5ms/step - loss: 0.0223 - accuracy: 0.9906 - val_loss: 0.1410 - val_accuracy: 0.9580\n",
            "Epoch 74/100\n",
            "14/14 [==============================] - 0s 5ms/step - loss: 0.0209 - accuracy: 0.9906 - val_loss: 0.1431 - val_accuracy: 0.9650\n",
            "Epoch 75/100\n",
            "14/14 [==============================] - 0s 6ms/step - loss: 0.0144 - accuracy: 0.9977 - val_loss: 0.1420 - val_accuracy: 0.9650\n",
            "Epoch 76/100\n",
            "14/14 [==============================] - 0s 6ms/step - loss: 0.0128 - accuracy: 1.0000 - val_loss: 0.1385 - val_accuracy: 0.9650\n",
            "Epoch 77/100\n",
            "14/14 [==============================] - 0s 5ms/step - loss: 0.0221 - accuracy: 0.9883 - val_loss: 0.1404 - val_accuracy: 0.9650\n",
            "Epoch 78/100\n",
            "14/14 [==============================] - 0s 6ms/step - loss: 0.0267 - accuracy: 0.9906 - val_loss: 0.1398 - val_accuracy: 0.9580\n",
            "Epoch 79/100\n",
            "14/14 [==============================] - 0s 5ms/step - loss: 0.0180 - accuracy: 0.9930 - val_loss: 0.1495 - val_accuracy: 0.9650\n",
            "Epoch 80/100\n",
            "14/14 [==============================] - 0s 6ms/step - loss: 0.0189 - accuracy: 0.9953 - val_loss: 0.1488 - val_accuracy: 0.9650\n",
            "Epoch 81/100\n",
            "14/14 [==============================] - 0s 5ms/step - loss: 0.0129 - accuracy: 0.9953 - val_loss: 0.1566 - val_accuracy: 0.9650\n",
            "Epoch 82/100\n",
            "14/14 [==============================] - 0s 7ms/step - loss: 0.0246 - accuracy: 0.9859 - val_loss: 0.1647 - val_accuracy: 0.9650\n",
            "Epoch 83/100\n",
            "14/14 [==============================] - 0s 7ms/step - loss: 0.0172 - accuracy: 0.9953 - val_loss: 0.1483 - val_accuracy: 0.9720\n",
            "Epoch 84/100\n",
            "14/14 [==============================] - 0s 7ms/step - loss: 0.0176 - accuracy: 0.9906 - val_loss: 0.1676 - val_accuracy: 0.9650\n",
            "Epoch 85/100\n",
            "14/14 [==============================] - 0s 7ms/step - loss: 0.0201 - accuracy: 0.9953 - val_loss: 0.1580 - val_accuracy: 0.9650\n",
            "Epoch 86/100\n",
            "14/14 [==============================] - 0s 6ms/step - loss: 0.0148 - accuracy: 0.9953 - val_loss: 0.1638 - val_accuracy: 0.9650\n",
            "Epoch 87/100\n",
            "14/14 [==============================] - 0s 7ms/step - loss: 0.0143 - accuracy: 0.9953 - val_loss: 0.1774 - val_accuracy: 0.9650\n",
            "Epoch 88/100\n",
            "14/14 [==============================] - 0s 7ms/step - loss: 0.0259 - accuracy: 0.9883 - val_loss: 0.1720 - val_accuracy: 0.9580\n",
            "Epoch 89/100\n",
            "14/14 [==============================] - 0s 6ms/step - loss: 0.0255 - accuracy: 0.9906 - val_loss: 0.1738 - val_accuracy: 0.9720\n",
            "Epoch 90/100\n",
            "14/14 [==============================] - 0s 7ms/step - loss: 0.0168 - accuracy: 0.9930 - val_loss: 0.1977 - val_accuracy: 0.9650\n",
            "Epoch 91/100\n",
            "14/14 [==============================] - 0s 7ms/step - loss: 0.0201 - accuracy: 0.9930 - val_loss: 0.2135 - val_accuracy: 0.9650\n",
            "Epoch 92/100\n",
            "14/14 [==============================] - 0s 8ms/step - loss: 0.0096 - accuracy: 0.9977 - val_loss: 0.2299 - val_accuracy: 0.9650\n",
            "Epoch 93/100\n",
            "14/14 [==============================] - 0s 7ms/step - loss: 0.0201 - accuracy: 0.9906 - val_loss: 0.2184 - val_accuracy: 0.9580\n",
            "Epoch 94/100\n",
            "14/14 [==============================] - 0s 7ms/step - loss: 0.0149 - accuracy: 0.9930 - val_loss: 0.2356 - val_accuracy: 0.9650\n",
            "Epoch 95/100\n",
            "14/14 [==============================] - 0s 7ms/step - loss: 0.0167 - accuracy: 0.9906 - val_loss: 0.2488 - val_accuracy: 0.9650\n",
            "Epoch 96/100\n",
            "14/14 [==============================] - 0s 6ms/step - loss: 0.0124 - accuracy: 0.9977 - val_loss: 0.2533 - val_accuracy: 0.9580\n",
            "Epoch 97/100\n",
            "14/14 [==============================] - 0s 7ms/step - loss: 0.0219 - accuracy: 0.9930 - val_loss: 0.2481 - val_accuracy: 0.9650\n",
            "Epoch 98/100\n",
            "14/14 [==============================] - 0s 6ms/step - loss: 0.0123 - accuracy: 0.9930 - val_loss: 0.2470 - val_accuracy: 0.9720\n",
            "Epoch 99/100\n",
            "14/14 [==============================] - 0s 7ms/step - loss: 0.0178 - accuracy: 0.9906 - val_loss: 0.2311 - val_accuracy: 0.9650\n",
            "Epoch 100/100\n",
            "14/14 [==============================] - 0s 5ms/step - loss: 0.0187 - accuracy: 0.9883 - val_loss: 0.2206 - val_accuracy: 0.9650\n",
            "5/5 [==============================] - 0s 3ms/step\n",
            "The Neural Network model accuracy is: 0.965034965034965\n",
            "The Neural Network model F1 score is: 0.9532710280373832\n"
          ]
        }
      ],
      "source": [
        "from keras.models import Sequential\n",
        "from keras.layers import Dense, Dropout\n",
        "from keras.optimizers import Adam\n",
        "from sklearn.preprocessing import StandardScaler\n",
        "from sklearn.metrics import accuracy_score, f1_score\n",
        "\n",
        "# Scale the features\n",
        "scaler = StandardScaler()\n",
        "Features_Training = scaler.fit_transform(Features_Training)\n",
        "Features_Test = scaler.transform(Features_Test)\n",
        "\n",
        "# Build the Neural Network Architecture\n",
        "model = Sequential()\n",
        "model.add(Dense(64, activation='relu', input_shape=(Features_Training.shape[1],)))\n",
        "model.add(Dropout(0.5))  # Dropout for regularization\n",
        "model.add(Dense(32, activation='relu'))\n",
        "model.add(Dense(1, activation='sigmoid'))\n",
        "\n",
        "# Train the Model\n",
        "model.compile(loss='binary_crossentropy', optimizer=Adam(learning_rate=0.001), metrics=['accuracy'])\n",
        "\n",
        "history = model.fit(Features_Training, Target_Training, epochs=100, batch_size=32,\n",
        "                    validation_data=(Features_Test, Target_Test))\n",
        "\n",
        "# Predictions\n",
        "y_pred = model.predict(Features_Test)\n",
        "y_pred = (y_pred > 0.5)  # Convert probabilities to binary labels\n",
        "\n",
        "# Calculate Accuracy\n",
        "DNN_accuracy = accuracy_score(Target_Test, y_pred)\n",
        "\n",
        "# Calculate F1 score\n",
        "DNN_f1score = f1_score(Target_Test, y_pred)\n",
        "\n",
        "print(f\"The Neural Network model accuracy is: {DNN_accuracy}\")\n",
        "print(f\"The Neural Network model F1 score is: {DNN_f1score}\")\n"
      ]
    },
    {
      "cell_type": "code",
      "execution_count": null,
      "metadata": {
        "colab": {
          "base_uri": "https://localhost:8080/",
          "height": 945
        },
        "id": "KKpnHJpbNs8E",
        "outputId": "d2837bbc-b1c4-4ffd-b5c7-7510cd6c0768"
      },
      "outputs": [
        {
          "output_type": "stream",
          "name": "stdout",
          "text": [
            "dict_keys(['loss', 'accuracy', 'val_loss', 'val_accuracy'])\n"
          ]
        },
        {
          "output_type": "display_data",
          "data": {
            "text/plain": [
              "<Figure size 640x480 with 1 Axes>"
            ],
            "image/png": "[encoded data removed]"
          },
          "metadata": {}
        },
        {
          "output_type": "display_data",
          "data": {
            "text/plain": [
              "<Figure size 640x480 with 1 Axes>"
            ],
            "image/png": "[encoded data removed]"
          },
          "metadata": {}
        }
      ],
      "source": [
        "import matplotlib.pyplot as plt\n",
        "# list all data in history\n",
        "print(history.history.keys())\n",
        "\n",
        "# summarize history for accuracy\n",
        "plt.plot(history.history['accuracy'])\n",
        "plt.plot(history.history['val_accuracy'])\n",
        "plt.title('model accuracy')\n",
        "plt.ylabel('accuracy')\n",
        "plt.xlabel('epoch')\n",
        "plt.legend(['train', 'test'], loc='upper left')\n",
        "plt.show()\n",
        "\n",
        "# summarize history for loss\n",
        "plt.plot(history.history['loss'])\n",
        "plt.plot(history.history['val_loss'])\n",
        "plt.title('model loss')\n",
        "plt.ylabel('loss')\n",
        "plt.xlabel('epoch')\n",
        "plt.legend(['train', 'test'], loc='upper left')\n",
        "plt.show()"
      ]
    },
    {
      "cell_type": "markdown",
      "source": [
        "# Baseline Result Table"
      ],
      "metadata": {
        "id": "gFIimCs-kLvv"
      }
    },
    {
      "cell_type": "code",
      "source": [
        "from tabulate import tabulate\n",
        "\n",
        "table = [\n",
        "    [\"KNN\", KNN_accuracy, KNN_f1score],\n",
        "    [\"RF\", RF_accuracy, RF_f1score],\n",
        "    [\"DNN\", DNN_accuracy, DNN_f1score]\n",
        "]\n",
        "\n",
        "headers = [\"Model Name\", \"Accuracy\", \"F1 Score\"]\n",
        "\n",
        "print(tabulate(table, headers, tablefmt=\"grid\"))\n"
      ],
      "metadata": {
        "colab": {
          "base_uri": "https://localhost:8080/"
        },
        "id": "uvfVf6GlkRNQ",
        "outputId": "32380bec-ee12-4d32-c9f6-25676f75ac89"
      },
      "execution_count": null,
      "outputs": [
        {
          "output_type": "stream",
          "name": "stdout",
          "text": [
            "+--------------+------------+------------+\n",
            "| Model Name   |   Accuracy |   F1 Score |\n",
            "+==============+============+============+\n",
            "| KNN          |   0.958042 |   0.94     |\n",
            "+--------------+------------+------------+\n",
            "| RF           |   0.958042 |   0.943396 |\n",
            "+--------------+------------+------------+\n",
            "| DNN          |   0.965035 |   0.953271 |\n",
            "+--------------+------------+------------+\n"
          ]
        }
      ]
    },
    {
      "cell_type": "markdown",
      "source": [
        "# Dimension reduction with PCA"
      ],
      "metadata": {
        "id": "uJWDu2XYh3AB"
      }
    },
    {
      "cell_type": "code",
      "source": [
        "from sklearn.decomposition import PCA\n",
        "\n",
        "# Principal Component Analysis (PCA)\n",
        "pca = PCA(n_components=22)\n",
        "Features_Training_pca = pca.fit_transform(Features_Training)\n",
        "Features_Test_pca = pca.transform(Features_Test)\n",
        "\n",
        "print(\"Shape of Features after PCA:\", Features_Training_pca.shape)"
      ],
      "metadata": {
        "colab": {
          "base_uri": "https://localhost:8080/"
        },
        "id": "DjO2bwmJl3Vt",
        "outputId": "947fdc2f-35d5-44ff-bd33-c20bfaa8fe35"
      },
      "execution_count": 9,
      "outputs": [
        {
          "output_type": "stream",
          "name": "stdout",
          "text": [
            "Shape of Features after PCA: (426, 22)\n"
          ]
        }
      ]
    },
    {
      "cell_type": "markdown",
      "source": [
        "## PCA with KNN Model"
      ],
      "metadata": {
        "id": "4DrjF8IymamO"
      }
    },
    {
      "cell_type": "code",
      "source": [
        "from sklearn.neighbors import KNeighborsClassifier\n",
        "from sklearn.metrics import accuracy_score, f1_score\n",
        "\n",
        "# Create a KNN model\n",
        "K_Nearest_Neighbors = KNeighborsClassifier(n_neighbors=4).fit(\n",
        "    Features_Training_pca, Target_Training)\n",
        "\n",
        "# Predictions on Features_Test\n",
        "y_pred_knn = K_Nearest_Neighbors.predict(Features_Test_pca)\n",
        "\n",
        "# Calculate and print accuracy\n",
        "KNN_accuracy_PCA = accuracy_score(Target_Test, y_pred_knn)\n",
        "print(\"The KNN model accuracy is:\", KNN_accuracy_PCA)\n",
        "\n",
        "# Calculate and print F1 score\n",
        "KNN_f1score_PCA = f1_score(Target_Test, y_pred_knn)\n",
        "print(\"The KNN model F1 score is:\", KNN_f1score_PCA)\n"
      ],
      "metadata": {
        "colab": {
          "base_uri": "https://localhost:8080/"
        },
        "id": "8hHjbdrzmeF5",
        "outputId": "180de927-ba7f-4b05-f000-011719e38f51"
      },
      "execution_count": 11,
      "outputs": [
        {
          "output_type": "stream",
          "name": "stdout",
          "text": [
            "The KNN model accuracy is: 0.958041958041958\n",
            "The KNN model F1 score is: 0.9400000000000001\n"
          ]
        }
      ]
    },
    {
      "cell_type": "markdown",
      "source": [
        "## PCA with RF Model"
      ],
      "metadata": {
        "id": "NCMpGfu4m2g7"
      }
    },
    {
      "cell_type": "code",
      "source": [
        "from sklearn.ensemble import RandomForestClassifier\n",
        "from sklearn.metrics import accuracy_score, f1_score\n",
        "\n",
        "# Create a RF model\n",
        "RF = RandomForestClassifier(n_estimators=12, criterion='entropy', random_state=41)\n",
        "RF.fit(Features_Training_pca, Target_Training)\n",
        "\n",
        "# Predictions on Features_Test\n",
        "y_pred_rf = RF.predict(Features_Test_pca)\n",
        "\n",
        "# Calculate and print accuracy\n",
        "RF_accuracy_PCA = accuracy_score(Target_Test, y_pred_rf)\n",
        "print(\"The RF model accuracy is:\", RF_accuracy_PCA)\n",
        "\n",
        "# Calculate and print F1 score\n",
        "RF_f1score_PCA = f1_score(Target_Test, y_pred_rf)\n",
        "print(\"The RF model F1 score is:\", RF_f1score_PCA)\n"
      ],
      "metadata": {
        "colab": {
          "base_uri": "https://localhost:8080/"
        },
        "id": "TREwh-cWm5Qd",
        "outputId": "83109c6f-1387-4b22-afe4-dc0e1dd30893"
      },
      "execution_count": 12,
      "outputs": [
        {
          "output_type": "stream",
          "name": "stdout",
          "text": [
            "The RF model accuracy is: 0.8951048951048951\n",
            "The RF model F1 score is: 0.8571428571428571\n"
          ]
        }
      ]
    },
    {
      "cell_type": "markdown",
      "source": [
        "## PCA with DNN Model"
      ],
      "metadata": {
        "id": "Q1Nd31RqnY2M"
      }
    },
    {
      "cell_type": "code",
      "source": [
        "from keras.models import Sequential\n",
        "from keras.layers import Dense, Dropout\n",
        "from keras.optimizers import Adam\n",
        "from sklearn.preprocessing import StandardScaler\n",
        "\n",
        "print(\"Shape of Features after PCA:\", Features_Training_pca.shape)\n",
        "\n",
        "# Build the Neural Network Architecture\n",
        "model = Sequential()\n",
        "model.add(Dense(64, activation='relu', input_shape=(Features_Training_pca.shape[1],)))\n",
        "model.add(Dropout(0.5))  # Dropout for regularization\n",
        "model.add(Dense(32, activation='relu'))\n",
        "model.add(Dense(1, activation='sigmoid'))\n",
        "\n",
        "# Train the Model\n",
        "model.compile(loss='binary_crossentropy', optimizer=Adam(learning_rate=0.001), metrics=['accuracy'])\n",
        "\n",
        "history = model.fit(Features_Training_pca, Target_Training, epochs=100, batch_size=32,\n",
        "                    validation_data=(Features_Test_pca, Target_Test))\n",
        "\n",
        "# Predictions\n",
        "y_pred = model.predict(Features_Test_pca)\n",
        "y_pred = (y_pred > 0.5)  # Convert probabilities to binary labels\n",
        "\n",
        "# Calculate Accuracy\n",
        "accuracy_PCA = accuracy_score(Target_Test, y_pred)\n",
        "\n",
        "# Calculate F1 score\n",
        "f1score_PCA = f1_score(Target_Test, y_pred)\n",
        "\n",
        "print(f\"The Neural Network model accuracy is: {accuracy}\")\n",
        "print(f\"The Neural Network model F1 score is: {f1score}\")\n"
      ],
      "metadata": {
        "colab": {
          "base_uri": "https://localhost:8080/"
        },
        "id": "_m2s0Evwnb42",
        "outputId": "17a1c175-4ec3-493c-ff8a-6ba0bae9aac1"
      },
      "execution_count": 15,
      "outputs": [
        {
          "output_type": "stream",
          "name": "stdout",
          "text": [
            "Shape of Features after PCA: (426, 22)\n",
            "Epoch 1/100\n",
            "14/14 [==============================] - 5s 67ms/step - loss: 0.6043 - accuracy: 0.7160 - val_loss: 0.4459 - val_accuracy: 0.8601\n",
            "Epoch 2/100\n",
            "14/14 [==============================] - 0s 19ms/step - loss: 0.4359 - accuracy: 0.8779 - val_loss: 0.3255 - val_accuracy: 0.9021\n",
            "Epoch 3/100\n",
            "14/14 [==============================] - 0s 16ms/step - loss: 0.3167 - accuracy: 0.9343 - val_loss: 0.2510 - val_accuracy: 0.9231\n",
            "Epoch 4/100\n",
            "14/14 [==============================] - 0s 18ms/step - loss: 0.2577 - accuracy: 0.9390 - val_loss: 0.2061 - val_accuracy: 0.9301\n",
            "Epoch 5/100\n",
            "14/14 [==============================] - 0s 17ms/step - loss: 0.2254 - accuracy: 0.9390 - val_loss: 0.1757 - val_accuracy: 0.9441\n",
            "Epoch 6/100\n",
            "14/14 [==============================] - 0s 16ms/step - loss: 0.1984 - accuracy: 0.9484 - val_loss: 0.1581 - val_accuracy: 0.9510\n",
            "Epoch 7/100\n",
            "14/14 [==============================] - 0s 15ms/step - loss: 0.1647 - accuracy: 0.9577 - val_loss: 0.1425 - val_accuracy: 0.9650\n",
            "Epoch 8/100\n",
            "14/14 [==============================] - 0s 23ms/step - loss: 0.1434 - accuracy: 0.9507 - val_loss: 0.1313 - val_accuracy: 0.9650\n",
            "Epoch 9/100\n",
            "14/14 [==============================] - 0s 19ms/step - loss: 0.1615 - accuracy: 0.9601 - val_loss: 0.1231 - val_accuracy: 0.9650\n",
            "Epoch 10/100\n",
            "14/14 [==============================] - 0s 24ms/step - loss: 0.1151 - accuracy: 0.9765 - val_loss: 0.1178 - val_accuracy: 0.9650\n",
            "Epoch 11/100\n",
            "14/14 [==============================] - 0s 14ms/step - loss: 0.1194 - accuracy: 0.9648 - val_loss: 0.1115 - val_accuracy: 0.9650\n",
            "Epoch 12/100\n",
            "14/14 [==============================] - 0s 16ms/step - loss: 0.1091 - accuracy: 0.9624 - val_loss: 0.1055 - val_accuracy: 0.9650\n",
            "Epoch 13/100\n",
            "14/14 [==============================] - 0s 19ms/step - loss: 0.1024 - accuracy: 0.9648 - val_loss: 0.1015 - val_accuracy: 0.9650\n",
            "Epoch 14/100\n",
            "14/14 [==============================] - 0s 20ms/step - loss: 0.0933 - accuracy: 0.9624 - val_loss: 0.0983 - val_accuracy: 0.9650\n",
            "Epoch 15/100\n",
            "14/14 [==============================] - 0s 16ms/step - loss: 0.1039 - accuracy: 0.9718 - val_loss: 0.0979 - val_accuracy: 0.9650\n",
            "Epoch 16/100\n",
            "14/14 [==============================] - 0s 22ms/step - loss: 0.0850 - accuracy: 0.9765 - val_loss: 0.0975 - val_accuracy: 0.9650\n",
            "Epoch 17/100\n",
            "14/14 [==============================] - 0s 11ms/step - loss: 0.0866 - accuracy: 0.9671 - val_loss: 0.0976 - val_accuracy: 0.9650\n",
            "Epoch 18/100\n",
            "14/14 [==============================] - 0s 15ms/step - loss: 0.0807 - accuracy: 0.9765 - val_loss: 0.0949 - val_accuracy: 0.9580\n",
            "Epoch 19/100\n",
            "14/14 [==============================] - 0s 28ms/step - loss: 0.0689 - accuracy: 0.9789 - val_loss: 0.0938 - val_accuracy: 0.9650\n",
            "Epoch 20/100\n",
            "14/14 [==============================] - 1s 47ms/step - loss: 0.0798 - accuracy: 0.9765 - val_loss: 0.0958 - val_accuracy: 0.9650\n",
            "Epoch 21/100\n",
            "14/14 [==============================] - 1s 46ms/step - loss: 0.0814 - accuracy: 0.9765 - val_loss: 0.1003 - val_accuracy: 0.9580\n",
            "Epoch 22/100\n",
            "14/14 [==============================] - 0s 33ms/step - loss: 0.0686 - accuracy: 0.9789 - val_loss: 0.1012 - val_accuracy: 0.9580\n",
            "Epoch 23/100\n",
            "14/14 [==============================] - 0s 19ms/step - loss: 0.0770 - accuracy: 0.9836 - val_loss: 0.0999 - val_accuracy: 0.9580\n",
            "Epoch 24/100\n",
            "14/14 [==============================] - 0s 21ms/step - loss: 0.0662 - accuracy: 0.9742 - val_loss: 0.0974 - val_accuracy: 0.9580\n",
            "Epoch 25/100\n",
            "14/14 [==============================] - 0s 14ms/step - loss: 0.0629 - accuracy: 0.9812 - val_loss: 0.0998 - val_accuracy: 0.9650\n",
            "Epoch 26/100\n",
            "14/14 [==============================] - 0s 10ms/step - loss: 0.0740 - accuracy: 0.9836 - val_loss: 0.0984 - val_accuracy: 0.9650\n",
            "Epoch 27/100\n",
            "14/14 [==============================] - 0s 10ms/step - loss: 0.0520 - accuracy: 0.9859 - val_loss: 0.0974 - val_accuracy: 0.9580\n",
            "Epoch 28/100\n",
            "14/14 [==============================] - 0s 11ms/step - loss: 0.0614 - accuracy: 0.9789 - val_loss: 0.0983 - val_accuracy: 0.9580\n",
            "Epoch 29/100\n",
            "14/14 [==============================] - 0s 9ms/step - loss: 0.0520 - accuracy: 0.9836 - val_loss: 0.0984 - val_accuracy: 0.9580\n",
            "Epoch 30/100\n",
            "14/14 [==============================] - 0s 14ms/step - loss: 0.0493 - accuracy: 0.9812 - val_loss: 0.0994 - val_accuracy: 0.9650\n",
            "Epoch 31/100\n",
            "14/14 [==============================] - 0s 10ms/step - loss: 0.0409 - accuracy: 0.9906 - val_loss: 0.1005 - val_accuracy: 0.9650\n",
            "Epoch 32/100\n",
            "14/14 [==============================] - 0s 14ms/step - loss: 0.0459 - accuracy: 0.9859 - val_loss: 0.1010 - val_accuracy: 0.9650\n",
            "Epoch 33/100\n",
            "14/14 [==============================] - 0s 10ms/step - loss: 0.0603 - accuracy: 0.9789 - val_loss: 0.0976 - val_accuracy: 0.9650\n",
            "Epoch 34/100\n",
            "14/14 [==============================] - 0s 9ms/step - loss: 0.0370 - accuracy: 0.9883 - val_loss: 0.0962 - val_accuracy: 0.9720\n",
            "Epoch 35/100\n",
            "14/14 [==============================] - 0s 10ms/step - loss: 0.0540 - accuracy: 0.9836 - val_loss: 0.0943 - val_accuracy: 0.9720\n",
            "Epoch 36/100\n",
            "14/14 [==============================] - 0s 9ms/step - loss: 0.0518 - accuracy: 0.9742 - val_loss: 0.0946 - val_accuracy: 0.9720\n",
            "Epoch 37/100\n",
            "14/14 [==============================] - 0s 10ms/step - loss: 0.0466 - accuracy: 0.9883 - val_loss: 0.0949 - val_accuracy: 0.9720\n",
            "Epoch 38/100\n",
            "14/14 [==============================] - 0s 10ms/step - loss: 0.0453 - accuracy: 0.9859 - val_loss: 0.1002 - val_accuracy: 0.9720\n",
            "Epoch 39/100\n",
            "14/14 [==============================] - 0s 9ms/step - loss: 0.0299 - accuracy: 0.9930 - val_loss: 0.1006 - val_accuracy: 0.9720\n",
            "Epoch 40/100\n",
            "14/14 [==============================] - 0s 9ms/step - loss: 0.0352 - accuracy: 0.9859 - val_loss: 0.1002 - val_accuracy: 0.9720\n",
            "Epoch 41/100\n",
            "14/14 [==============================] - 0s 10ms/step - loss: 0.0481 - accuracy: 0.9859 - val_loss: 0.1031 - val_accuracy: 0.9650\n",
            "Epoch 42/100\n",
            "14/14 [==============================] - 0s 9ms/step - loss: 0.0484 - accuracy: 0.9859 - val_loss: 0.1069 - val_accuracy: 0.9650\n",
            "Epoch 43/100\n",
            "14/14 [==============================] - 0s 10ms/step - loss: 0.0427 - accuracy: 0.9906 - val_loss: 0.1089 - val_accuracy: 0.9580\n",
            "Epoch 44/100\n",
            "14/14 [==============================] - 0s 10ms/step - loss: 0.0315 - accuracy: 0.9930 - val_loss: 0.1098 - val_accuracy: 0.9650\n",
            "Epoch 45/100\n",
            "14/14 [==============================] - 0s 11ms/step - loss: 0.0417 - accuracy: 0.9906 - val_loss: 0.1113 - val_accuracy: 0.9650\n",
            "Epoch 46/100\n",
            "14/14 [==============================] - 0s 10ms/step - loss: 0.0382 - accuracy: 0.9906 - val_loss: 0.1186 - val_accuracy: 0.9650\n",
            "Epoch 47/100\n",
            "14/14 [==============================] - 0s 12ms/step - loss: 0.0390 - accuracy: 0.9836 - val_loss: 0.1232 - val_accuracy: 0.9650\n",
            "Epoch 48/100\n",
            "14/14 [==============================] - 0s 10ms/step - loss: 0.0374 - accuracy: 0.9883 - val_loss: 0.1276 - val_accuracy: 0.9650\n",
            "Epoch 49/100\n",
            "14/14 [==============================] - 0s 9ms/step - loss: 0.0270 - accuracy: 0.9906 - val_loss: 0.1245 - val_accuracy: 0.9650\n",
            "Epoch 50/100\n",
            "14/14 [==============================] - 0s 10ms/step - loss: 0.0310 - accuracy: 0.9906 - val_loss: 0.1268 - val_accuracy: 0.9650\n",
            "Epoch 51/100\n",
            "14/14 [==============================] - 0s 13ms/step - loss: 0.0367 - accuracy: 0.9836 - val_loss: 0.1297 - val_accuracy: 0.9650\n",
            "Epoch 52/100\n",
            "14/14 [==============================] - 0s 10ms/step - loss: 0.0347 - accuracy: 0.9859 - val_loss: 0.1287 - val_accuracy: 0.9650\n",
            "Epoch 53/100\n",
            "14/14 [==============================] - 0s 10ms/step - loss: 0.0374 - accuracy: 0.9836 - val_loss: 0.1295 - val_accuracy: 0.9650\n",
            "Epoch 54/100\n",
            "14/14 [==============================] - 0s 13ms/step - loss: 0.0269 - accuracy: 0.9906 - val_loss: 0.1301 - val_accuracy: 0.9650\n",
            "Epoch 55/100\n",
            "14/14 [==============================] - 0s 10ms/step - loss: 0.0423 - accuracy: 0.9883 - val_loss: 0.1277 - val_accuracy: 0.9650\n",
            "Epoch 56/100\n",
            "14/14 [==============================] - 0s 11ms/step - loss: 0.0385 - accuracy: 0.9883 - val_loss: 0.1291 - val_accuracy: 0.9650\n",
            "Epoch 57/100\n",
            "14/14 [==============================] - 0s 11ms/step - loss: 0.0304 - accuracy: 0.9883 - val_loss: 0.1328 - val_accuracy: 0.9650\n",
            "Epoch 58/100\n",
            "14/14 [==============================] - 0s 11ms/step - loss: 0.0322 - accuracy: 0.9859 - val_loss: 0.1294 - val_accuracy: 0.9650\n",
            "Epoch 59/100\n",
            "14/14 [==============================] - 0s 13ms/step - loss: 0.0264 - accuracy: 0.9906 - val_loss: 0.1263 - val_accuracy: 0.9650\n",
            "Epoch 60/100\n",
            "14/14 [==============================] - 0s 11ms/step - loss: 0.0301 - accuracy: 0.9883 - val_loss: 0.1262 - val_accuracy: 0.9650\n",
            "Epoch 61/100\n",
            "14/14 [==============================] - 0s 10ms/step - loss: 0.0292 - accuracy: 0.9883 - val_loss: 0.1302 - val_accuracy: 0.9650\n",
            "Epoch 62/100\n",
            "14/14 [==============================] - 0s 10ms/step - loss: 0.0327 - accuracy: 0.9859 - val_loss: 0.1308 - val_accuracy: 0.9650\n",
            "Epoch 63/100\n",
            "14/14 [==============================] - 0s 12ms/step - loss: 0.0202 - accuracy: 0.9930 - val_loss: 0.1350 - val_accuracy: 0.9650\n",
            "Epoch 64/100\n",
            "14/14 [==============================] - 0s 10ms/step - loss: 0.0227 - accuracy: 0.9953 - val_loss: 0.1380 - val_accuracy: 0.9650\n",
            "Epoch 65/100\n",
            "14/14 [==============================] - 0s 11ms/step - loss: 0.0294 - accuracy: 0.9883 - val_loss: 0.1387 - val_accuracy: 0.9720\n",
            "Epoch 66/100\n",
            "14/14 [==============================] - 0s 9ms/step - loss: 0.0340 - accuracy: 0.9859 - val_loss: 0.1447 - val_accuracy: 0.9650\n",
            "Epoch 67/100\n",
            "14/14 [==============================] - 0s 10ms/step - loss: 0.0173 - accuracy: 0.9953 - val_loss: 0.1383 - val_accuracy: 0.9650\n",
            "Epoch 68/100\n",
            "14/14 [==============================] - 0s 10ms/step - loss: 0.0248 - accuracy: 0.9930 - val_loss: 0.1524 - val_accuracy: 0.9650\n",
            "Epoch 69/100\n",
            "14/14 [==============================] - 0s 9ms/step - loss: 0.0275 - accuracy: 0.9883 - val_loss: 0.1583 - val_accuracy: 0.9720\n",
            "Epoch 70/100\n",
            "14/14 [==============================] - 0s 7ms/step - loss: 0.0342 - accuracy: 0.9883 - val_loss: 0.1614 - val_accuracy: 0.9720\n",
            "Epoch 71/100\n",
            "14/14 [==============================] - 0s 9ms/step - loss: 0.0135 - accuracy: 0.9977 - val_loss: 0.1694 - val_accuracy: 0.9650\n",
            "Epoch 72/100\n",
            "14/14 [==============================] - 0s 7ms/step - loss: 0.0330 - accuracy: 0.9859 - val_loss: 0.1831 - val_accuracy: 0.9650\n",
            "Epoch 73/100\n",
            "14/14 [==============================] - 0s 6ms/step - loss: 0.0187 - accuracy: 0.9906 - val_loss: 0.1857 - val_accuracy: 0.9650\n",
            "Epoch 74/100\n",
            "14/14 [==============================] - 0s 7ms/step - loss: 0.0156 - accuracy: 1.0000 - val_loss: 0.1879 - val_accuracy: 0.9650\n",
            "Epoch 75/100\n",
            "14/14 [==============================] - 0s 7ms/step - loss: 0.0198 - accuracy: 0.9930 - val_loss: 0.1837 - val_accuracy: 0.9650\n",
            "Epoch 76/100\n",
            "14/14 [==============================] - 0s 7ms/step - loss: 0.0233 - accuracy: 0.9930 - val_loss: 0.1732 - val_accuracy: 0.9650\n",
            "Epoch 77/100\n",
            "14/14 [==============================] - 0s 7ms/step - loss: 0.0196 - accuracy: 0.9906 - val_loss: 0.1673 - val_accuracy: 0.9650\n",
            "Epoch 78/100\n",
            "14/14 [==============================] - 0s 7ms/step - loss: 0.0159 - accuracy: 0.9953 - val_loss: 0.1579 - val_accuracy: 0.9580\n",
            "Epoch 79/100\n",
            "14/14 [==============================] - 0s 7ms/step - loss: 0.0230 - accuracy: 0.9906 - val_loss: 0.1460 - val_accuracy: 0.9580\n",
            "Epoch 80/100\n",
            "14/14 [==============================] - 0s 6ms/step - loss: 0.0198 - accuracy: 0.9930 - val_loss: 0.1436 - val_accuracy: 0.9650\n",
            "Epoch 81/100\n",
            "14/14 [==============================] - 0s 7ms/step - loss: 0.0245 - accuracy: 0.9930 - val_loss: 0.1468 - val_accuracy: 0.9650\n",
            "Epoch 82/100\n",
            "14/14 [==============================] - 0s 7ms/step - loss: 0.0460 - accuracy: 0.9836 - val_loss: 0.1796 - val_accuracy: 0.9650\n",
            "Epoch 83/100\n",
            "14/14 [==============================] - 0s 6ms/step - loss: 0.0159 - accuracy: 0.9906 - val_loss: 0.1853 - val_accuracy: 0.9650\n",
            "Epoch 84/100\n",
            "14/14 [==============================] - 0s 6ms/step - loss: 0.0206 - accuracy: 0.9953 - val_loss: 0.1836 - val_accuracy: 0.9650\n",
            "Epoch 85/100\n",
            "14/14 [==============================] - 0s 6ms/step - loss: 0.0200 - accuracy: 0.9930 - val_loss: 0.1905 - val_accuracy: 0.9650\n",
            "Epoch 86/100\n",
            "14/14 [==============================] - 0s 6ms/step - loss: 0.0183 - accuracy: 0.9930 - val_loss: 0.1914 - val_accuracy: 0.9650\n",
            "Epoch 87/100\n",
            "14/14 [==============================] - 0s 6ms/step - loss: 0.0171 - accuracy: 0.9930 - val_loss: 0.1907 - val_accuracy: 0.9650\n",
            "Epoch 88/100\n",
            "14/14 [==============================] - 0s 7ms/step - loss: 0.0144 - accuracy: 0.9953 - val_loss: 0.1906 - val_accuracy: 0.9650\n",
            "Epoch 89/100\n",
            "14/14 [==============================] - 0s 6ms/step - loss: 0.0116 - accuracy: 0.9953 - val_loss: 0.1928 - val_accuracy: 0.9650\n",
            "Epoch 90/100\n",
            "14/14 [==============================] - 0s 6ms/step - loss: 0.0171 - accuracy: 0.9953 - val_loss: 0.1952 - val_accuracy: 0.9650\n",
            "Epoch 91/100\n",
            "14/14 [==============================] - 0s 7ms/step - loss: 0.0169 - accuracy: 0.9977 - val_loss: 0.1967 - val_accuracy: 0.9650\n",
            "Epoch 92/100\n",
            "14/14 [==============================] - 0s 7ms/step - loss: 0.0197 - accuracy: 0.9930 - val_loss: 0.1998 - val_accuracy: 0.9650\n",
            "Epoch 93/100\n",
            "14/14 [==============================] - 0s 6ms/step - loss: 0.0170 - accuracy: 0.9953 - val_loss: 0.2185 - val_accuracy: 0.9650\n",
            "Epoch 94/100\n",
            "14/14 [==============================] - 0s 6ms/step - loss: 0.0169 - accuracy: 0.9953 - val_loss: 0.2350 - val_accuracy: 0.9650\n",
            "Epoch 95/100\n",
            "14/14 [==============================] - 0s 6ms/step - loss: 0.0167 - accuracy: 0.9953 - val_loss: 0.2377 - val_accuracy: 0.9650\n",
            "Epoch 96/100\n",
            "14/14 [==============================] - 0s 6ms/step - loss: 0.0154 - accuracy: 0.9953 - val_loss: 0.2407 - val_accuracy: 0.9650\n",
            "Epoch 97/100\n",
            "14/14 [==============================] - 0s 6ms/step - loss: 0.0210 - accuracy: 0.9930 - val_loss: 0.2373 - val_accuracy: 0.9650\n",
            "Epoch 98/100\n",
            "14/14 [==============================] - 0s 7ms/step - loss: 0.0142 - accuracy: 0.9977 - val_loss: 0.2272 - val_accuracy: 0.9650\n",
            "Epoch 99/100\n",
            "14/14 [==============================] - 0s 7ms/step - loss: 0.0156 - accuracy: 0.9977 - val_loss: 0.2329 - val_accuracy: 0.9650\n",
            "Epoch 100/100\n",
            "14/14 [==============================] - 0s 9ms/step - loss: 0.0127 - accuracy: 0.9977 - val_loss: 0.2396 - val_accuracy: 0.9650\n",
            "5/5 [==============================] - 0s 5ms/step\n",
            "The Neural Network model accuracy is: 0.958041958041958\n",
            "The Neural Network model F1 score is: 0.9444444444444444\n"
          ]
        }
      ]
    },
    {
      "cell_type": "code",
      "source": [
        "import matplotlib.pyplot as plt\n",
        "# list all data in history\n",
        "print(history.history.keys())\n",
        "\n",
        "# summarize history for accuracy\n",
        "plt.plot(history.history['accuracy'])\n",
        "plt.plot(history.history['val_accuracy'])\n",
        "plt.title('model accuracy')\n",
        "plt.ylabel('accuracy')\n",
        "plt.xlabel('epoch')\n",
        "plt.legend(['train', 'test'], loc='upper left')\n",
        "plt.show()\n",
        "\n",
        "# summarize history for loss\n",
        "plt.plot(history.history['loss'])\n",
        "plt.plot(history.history['val_loss'])\n",
        "plt.title('model loss')\n",
        "plt.ylabel('loss')\n",
        "plt.xlabel('epoch')\n",
        "plt.legend(['train', 'test'], loc='upper left')\n",
        "plt.show()"
      ],
      "metadata": {
        "colab": {
          "base_uri": "https://localhost:8080/",
          "height": 945
        },
        "id": "3tkXNGCQsCT9",
        "outputId": "4f82a7a5-d89c-4221-819a-36ce6f18d3aa"
      },
      "execution_count": 16,
      "outputs": [
        {
          "output_type": "stream",
          "name": "stdout",
          "text": [
            "dict_keys(['loss', 'accuracy', 'val_loss', 'val_accuracy'])\n"
          ]
        },
        {
          "output_type": "display_data",
          "data": {
            "text/plain": [
              "<Figure size 640x480 with 1 Axes>"
            ],
            "image/png": "[encoded data removed]"
          },
          "metadata": {}
        },
        {
          "output_type": "display_data",
          "data": {
            "text/plain": [
              "<Figure size 640x480 with 1 Axes>"
            ],
            "image/png": "[encoded data removed]"
          },
          "metadata": {}
        }
      ]
    },
    {
      "cell_type": "markdown",
      "source": [
        "# Result Table after performing PCA reducing 8 features"
      ],
      "metadata": {
        "id": "lAVmPZ55uzAu"
      }
    },
    {
      "cell_type": "code",
      "source": [
        "from tabulate import tabulate\n",
        "\n",
        "table = [\n",
        "    [\"KNN\", KNN_accuracy_PCA, KNN_f1score_PCA],\n",
        "    [\"RF\", RF_accuracy_PCA, RF_f1score_PCA],\n",
        "    [\"DNN\", accuracy_PCA, f1score_PCA]\n",
        "]\n",
        "\n",
        "headers = [\"Model Name\", \"Accuracy\", \"F1 Score\"]\n",
        "\n",
        "print(tabulate(table, headers, tablefmt=\"grid\"))"
      ],
      "metadata": {
        "colab": {
          "base_uri": "https://localhost:8080/"
        },
        "id": "RLg-DCaou6HD",
        "outputId": "4c4bf7ca-038b-4990-afae-af40d7c95a5b"
      },
      "execution_count": 19,
      "outputs": [
        {
          "output_type": "stream",
          "name": "stdout",
          "text": [
            "+--------------+------------+------------+\n",
            "| Model Name   |   Accuracy |   F1 Score |\n",
            "+==============+============+============+\n",
            "| KNN          |   0.958042 |   0.94     |\n",
            "+--------------+------------+------------+\n",
            "| RF           |   0.895105 |   0.857143 |\n",
            "+--------------+------------+------------+\n",
            "| DNN          |   0.965035 |   0.953271 |\n",
            "+--------------+------------+------------+\n"
          ]
        }
      ]
    }
  ],
  "metadata": {
    "colab": {
      "provenance": [],
      "toc_visible": true,
      "authorship_tag": "ABX9TyPJkGuzzbhcWlctuKOPdUH4",
      "include_colab_link": true
    },
    "kernelspec": {
      "display_name": "Python 3",
      "name": "python3"
    },
    "language_info": {
      "name": "python"
    }
  },
  "nbformat": 4,
  "nbformat_minor": 0
}